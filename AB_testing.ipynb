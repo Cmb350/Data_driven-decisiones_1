{
 "cells": [
  {
   "cell_type": "markdown",
   "metadata": {},
   "source": [
    "# Introduction\n",
    "\n",
    "In this section, we will present an analysis of A/B tests and the RICE and ICE scoring methods to facilitate decision-making for a large online store.\n",
    "\n",
    "1. We will deliver the results of the ICE and RICE indicators, highlighting the relevance of the hypotheses and identifying which ones should be prioritized in the decision-making process.\n",
    "2. We will provide results from the A/B tests in order to validate the data and identify any anomalies or differences that could challenge the proposed hypotheses.\n",
    "3. We will offer observations on the results to help facilitate understanding and assist with the analysis."
   ]
  },
  {
   "cell_type": "code",
   "execution_count": 1,
   "metadata": {},
   "outputs": [],
   "source": [
    "import pandas as pd\n",
    "import scipy.stats as st\n",
    "import datetime as dt\n",
    "import numpy as np\n",
    "import matplotlib.pyplot as plt\n",
    "import seaborn as sns"
   ]
  },
  {
   "cell_type": "code",
   "execution_count": 2,
   "metadata": {},
   "outputs": [],
   "source": [
    "hipotesis = pd.read_csv('/datasets/hypotheses_us.csv', sep = ';' )\n",
    "orders = pd.read_csv('/datasets/orders_us.csv')\n",
    "visits = pd.read_csv('/datasets/visits_us.csv')"
   ]
  },
  {
   "cell_type": "code",
   "execution_count": 3,
   "metadata": {},
   "outputs": [
    {
     "name": "stdout",
     "output_type": "stream",
     "text": [
      "<class 'pandas.core.frame.DataFrame'>\n",
      "RangeIndex: 9 entries, 0 to 8\n",
      "Data columns (total 5 columns):\n",
      " #   Column      Non-Null Count  Dtype \n",
      "---  ------      --------------  ----- \n",
      " 0   Hypothesis  9 non-null      object\n",
      " 1   Reach       9 non-null      int64 \n",
      " 2   Impact      9 non-null      int64 \n",
      " 3   Confidence  9 non-null      int64 \n",
      " 4   Effort      9 non-null      int64 \n",
      "dtypes: int64(4), object(1)\n",
      "memory usage: 488.0+ bytes\n",
      "None\n",
      "<class 'pandas.core.frame.DataFrame'>\n",
      "RangeIndex: 1197 entries, 0 to 1196\n",
      "Data columns (total 5 columns):\n",
      " #   Column         Non-Null Count  Dtype  \n",
      "---  ------         --------------  -----  \n",
      " 0   transactionId  1197 non-null   int64  \n",
      " 1   visitorId      1197 non-null   int64  \n",
      " 2   date           1197 non-null   object \n",
      " 3   revenue        1197 non-null   float64\n",
      " 4   group          1197 non-null   object \n",
      "dtypes: float64(1), int64(2), object(2)\n",
      "memory usage: 46.9+ KB\n",
      "None\n",
      "<class 'pandas.core.frame.DataFrame'>\n",
      "RangeIndex: 62 entries, 0 to 61\n",
      "Data columns (total 3 columns):\n",
      " #   Column  Non-Null Count  Dtype \n",
      "---  ------  --------------  ----- \n",
      " 0   date    62 non-null     object\n",
      " 1   group   62 non-null     object\n",
      " 2   visits  62 non-null     int64 \n",
      "dtypes: int64(1), object(2)\n",
      "memory usage: 1.6+ KB\n",
      "None\n"
     ]
    }
   ],
   "source": [
    "print(hipotesis.info())\n",
    "print(orders.info())\n",
    "print(visits.info())\n",
    "\n",
    "# The information extracted from info() tells us that we do not have null information."
   ]
  },
  {
   "cell_type": "code",
   "execution_count": 4,
   "metadata": {},
   "outputs": [],
   "source": [
    "# I made the information adjustments that may be necessary for our analysis\n",
    "\n",
    "hipotesis = hipotesis.rename(str.lower, axis = 'columns')\n",
    "orders = orders.rename(str.lower, axis = 'columns')\n",
    "orders['date'] = pd.to_datetime(orders['date'], format = '%Y-%m-%d')\n",
    "visits['date'] = pd.to_datetime(visits['date'], format = '%Y-%m-%d')\n"
   ]
  },
  {
   "cell_type": "code",
   "execution_count": 5,
   "metadata": {},
   "outputs": [
    {
     "name": "stdout",
     "output_type": "stream",
     "text": [
      "Empty DataFrame\n",
      "Columns: [visitorid, A, B]\n",
      "Index: []\n"
     ]
    }
   ],
   "source": [
    "# Validation of possible duplicate assignment\n",
    "\n",
    "pivot_ = orders.pivot_table(index = 'visitorid', columns = 'group', values = 'transactionid', aggfunc = 'count')\n",
    "pivot_ = pivot_.reset_index()\n",
    "pivot_ = pivot_.fillna(0)\n",
    "filtro = pivot_[(pivot_['A'] == 0)&(pivot_['B'] == 0)]\n",
    "print(filtro)\n",
    "# I did not find any visitors with double group assignment"
   ]
  },
  {
   "cell_type": "code",
   "execution_count": 6,
   "metadata": {},
   "outputs": [
    {
     "name": "stdout",
     "output_type": "stream",
     "text": [
      "<class 'pandas.core.frame.DataFrame'>\n",
      "Int64Index: 62 entries, 0 to 61\n",
      "Data columns (total 3 columns):\n",
      " #   Column  Non-Null Count  Dtype         \n",
      "---  ------  --------------  -----         \n",
      " 0   date    62 non-null     datetime64[ns]\n",
      " 1   group   62 non-null     object        \n",
      " 2   visits  62 non-null     int64         \n",
      "dtypes: datetime64[ns](1), int64(1), object(1)\n",
      "memory usage: 1.9+ KB\n",
      "None\n",
      "<class 'pandas.core.frame.DataFrame'>\n",
      "Int64Index: 1197 entries, 0 to 1196\n",
      "Data columns (total 5 columns):\n",
      " #   Column         Non-Null Count  Dtype         \n",
      "---  ------         --------------  -----         \n",
      " 0   transactionid  1197 non-null   int64         \n",
      " 1   visitorid      1197 non-null   int64         \n",
      " 2   date           1197 non-null   datetime64[ns]\n",
      " 3   revenue        1197 non-null   float64       \n",
      " 4   group          1197 non-null   object        \n",
      "dtypes: datetime64[ns](1), float64(1), int64(2), object(1)\n",
      "memory usage: 56.1+ KB\n",
      "None\n"
     ]
    }
   ],
   "source": [
    "# I performed a duplicate drop in case of having duplicate data\n",
    "\n",
    "visits = visits.drop_duplicates()\n",
    "orders = orders.drop_duplicates()\n",
    "\n",
    "print(visits.info())\n",
    "print(orders.info())"
   ]
  },
  {
   "cell_type": "code",
   "execution_count": 7,
   "metadata": {
    "scrolled": true
   },
   "outputs": [
    {
     "name": "stdout",
     "output_type": "stream",
     "text": [
      "                                          hypothesis        ICE\n",
      "8  Launch a promotion that gives users discounts ...  16.200000\n",
      "0  Add two new channels for attracting traffic. T...  13.333333\n",
      "7  Add a subscription form to all the main pages....  11.200000\n",
      "6  Show banners with current offers and sales on ...   8.000000\n",
      "2  Add product recommendation blocks to the store...   7.000000\n",
      "1  Launch your own delivery service. This will sh...   2.000000\n",
      "5  Add a customer review page. This will increase...   1.333333\n",
      "3  Change the category structure. This will incre...   1.125000\n",
      "4  Change the background color on the main page. ...   1.000000\n",
      "                                          hypothesis   RICE\n",
      "7  Add a subscription form to all the main pages....  112.0\n",
      "2  Add product recommendation blocks to the store...   56.0\n",
      "0  Add two new channels for attracting traffic. T...   40.0\n",
      "6  Show banners with current offers and sales on ...   40.0\n",
      "8  Launch a promotion that gives users discounts ...   16.2\n",
      "3  Change the category structure. This will incre...    9.0\n",
      "1  Launch your own delivery service. This will sh...    4.0\n",
      "5  Add a customer review page. This will increase...    4.0\n",
      "4  Change the background color on the main page. ...    3.0\n"
     ]
    }
   ],
   "source": [
    "# 1. ICE and RICE tests\n",
    "\n",
    "hipotesis['ICE'] =  (hipotesis['impact'] * hipotesis['confidence'])/ hipotesis['effort']\n",
    "ICE_report = (hipotesis[['hypothesis','ICE']]).sort_values(by = 'ICE', ascending = False)\n",
    "\n",
    "hipotesis['RICE'] =  (hipotesis['reach']*hipotesis['impact'] * hipotesis['confidence'])/ hipotesis['effort']\n",
    "RICE_report = (hipotesis[['hypothesis','RICE']]).sort_values(by = 'RICE', ascending = False)\n",
    "print(ICE_report)\n",
    "print(RICE_report)"
   ]
  },
  {
   "cell_type": "markdown",
   "metadata": {},
   "source": [
    "# ICE and RICE Categorization\n",
    "\n",
    "Both categories can be relevant for decision-making. We observe that the \"Reach\" aspect generates several changes in the categorization. Depending on the company's objectives and their scale of importance, they should choose between the categories provided by ICE or RICE."
   ]
  },
  {
   "cell_type": "code",
   "execution_count": 8,
   "metadata": {
    "scrolled": true
   },
   "outputs": [
    {
     "data": {
      "image/png": "[encoded data removed]",
      "text/plain": [
       "<Figure size 640x480 with 1 Axes>"
      ]
     },
     "metadata": {},
     "output_type": "display_data"
    }
   ],
   "source": [
    "# Graphical representation of income by group\n",
    "\n",
    "orders['week'] = orders['date'].dt.week\n",
    "orders['day'] = orders['date'].dt.day\n",
    "\n",
    "total_revenue = revenue_avg = orders.pivot_table(index = 'day', columns = 'group', values = 'revenue', aggfunc = 'sum')\n",
    "\n",
    "total_revenue.plot(kind='bar', title = 'Comparison of total daily sales between groups')\n",
    "plt.show()"
   ]
  },
  {
   "cell_type": "markdown",
   "metadata": {},
   "source": [
    "# Start of A/B Tests\n",
    "# 1. Sales Comparison Between Groups\n",
    "\n",
    "In the A/B tests, we aim to divide our sample into two groups and evaluate their behavioral patterns. If the differences are significant, we will need to continue testing and question the accuracy of our hypotheses.\n",
    "At first glance, we notice that total monthly sales differ quite a bit between the groups. Group B shows higher sales volume than Group A, which suggests that we may have significant differences."
   ]
  },
  {
   "cell_type": "code",
   "execution_count": 9,
   "metadata": {},
   "outputs": [
    {
     "data": {
      "image/png": "[encoded data removed]",
      "text/plain": [
       "<Figure size 640x480 with 1 Axes>"
      ]
     },
     "metadata": {},
     "output_type": "display_data"
    }
   ],
   "source": [
    "# Graphical representation by average order\n",
    "revenue_avg = orders.pivot_table(index = 'day', columns = 'group', values = 'revenue', aggfunc = 'mean')\n",
    "\n",
    "revenue_avg.plot(kind='bar', title = 'Comparison of average daily sales between groups')\n",
    "plt.show()"
   ]
  },
  {
   "cell_type": "markdown",
   "metadata": {},
   "source": [
    "# 2. Comparison of Average Revenue Per User\n",
    "\n",
    "Here, we observe the same behavior as with total sales—Group B stands out over Group A in terms of average revenue. However, we may have some outliers in Group B that could skew the average."
   ]
  },
  {
   "cell_type": "code",
   "execution_count": 10,
   "metadata": {},
   "outputs": [
    {
     "data": {
      "image/png": "[encoded data removed]",
      "text/plain": [
       "<Figure size 640x480 with 1 Axes>"
      ]
     },
     "metadata": {},
     "output_type": "display_data"
    }
   ],
   "source": [
    "# Calculation of the relative difference between group B and group A\n",
    "\n",
    "relative_diference = orders.pivot_table(index = 'date', columns = 'group', values = 'revenue', aggfunc = 'mean')\n",
    "relative_diference = relative_diference.reset_index()\n",
    "relative_diference['diferencia'] =  (relative_diference['B'] - relative_diference['A'])/relative_diference['A']\n",
    "relative_diference['day'] = relative_diference['date'].dt.day\n",
    "relative_diference.plot(x= 'day', y= 'diferencia', kind = 'bar', title = 'Relative difference between group B and group A', legend = False)\n",
    "\n",
    "plt.show()"
   ]
  },
  {
   "cell_type": "markdown",
   "metadata": {},
   "source": [
    "# 3. Relative Difference Between Group B and Group A\n",
    "\n",
    "From the previous analysis, we saw that Group B outperforms Group A. This warrants a relative difference analysis, which shows a positive difference for most of the month and a significant difference on certain days."
   ]
  },
  {
   "cell_type": "code",
   "execution_count": 11,
   "metadata": {},
   "outputs": [],
   "source": [
    "# Calculate conversion rate\n",
    "\n",
    "orders_by_group = orders.groupby(['date','group'])['transactionid'].count()\n",
    "orders_by_group.name = 'orders'\n",
    "visits = visits.join(orders_by_group, on =['date','group'])"
   ]
  },
  {
   "cell_type": "code",
   "execution_count": 12,
   "metadata": {
    "scrolled": true
   },
   "outputs": [
    {
     "data": {
      "image/png": "[encoded data removed]",
      "text/plain": [
       "<Figure size 640x480 with 1 Axes>"
      ]
     },
     "metadata": {},
     "output_type": "display_data"
    }
   ],
   "source": [
    "visits['convertion'] = visits['orders']/visits['visits']\n",
    "visits['week'] = visits['date'].dt.week\n",
    "\n",
    "visits[visits['group'] == 'A']['convertion'].plot(kind = 'hist', bins = 30)\n",
    "visits[visits['group'] == 'B']['convertion'].plot(kind = 'hist', bins = 30)\n",
    "\n",
    "plt.legend(['Group A','Group B'])\n",
    "plt.show()"
   ]
  },
  {
   "cell_type": "markdown",
   "metadata": {},
   "source": [
    " # 4. Conversion Rate Calculation\n",
    " \n",
    "To further explore the differences between both groups, we compare their conversion rates, aiming to identify any user behavior discrepancies. Just like in the revenue analysis, we observe that Group B exhibits better conversion rates on certain days. However, both groups show several data points around the median of the graph. This suggests that outliers might be benefiting Group B. Now, we need to determine whether this is due to the number of users or the transaction amounts."
   ]
  },
  {
   "cell_type": "code",
   "execution_count": 13,
   "metadata": {
    "scrolled": true
   },
   "outputs": [
    {
     "data": {
      "image/png": "[encoded data removed]",
      "text/plain": [
       "<Figure size 640x480 with 1 Axes>"
      ]
     },
     "metadata": {},
     "output_type": "display_data"
    },
    {
     "name": "stdout",
     "output_type": "stream",
     "text": [
      "1197\n"
     ]
    }
   ],
   "source": [
    "# Scatter plot for the number of orders per user\n",
    "\n",
    "orders_by_user = orders.groupby('visitorid')['transactionid'].count()\n",
    "\n",
    "x_values = pd.Series(range(0, 1031))\n",
    "\n",
    "plt.scatter(x_values, orders_by_user )\n",
    "plt.show()\n",
    "\n",
    "print(orders_by_user.sum())"
   ]
  },
  {
   "cell_type": "markdown",
   "metadata": {},
   "source": [
    "# 5. User Dispersion Analysis\n",
    "\n",
    "At first glance, we notice that most users make only one purchase. Outliers may start from users who have made more than one purchase, but this information seems incomplete without knowing the amounts of each transaction. The data won’t be relevant if the transaction amounts are close to the average."
   ]
  },
  {
   "cell_type": "code",
   "execution_count": 14,
   "metadata": {},
   "outputs": [
    {
     "name": "stdout",
     "output_type": "stream",
     "text": [
      "[1. 2. 4.]\n"
     ]
    }
   ],
   "source": [
    "# Calculating percentiles for the number of orders per user\n",
    "\n",
    "percentiles = np.percentile(orders_by_user, [90,95,99])\n",
    "\n",
    "print(percentiles)"
   ]
  },
  {
   "cell_type": "code",
   "execution_count": 15,
   "metadata": {},
   "outputs": [
    {
     "data": {
      "image/png": "[encoded data removed]",
      "text/plain": [
       "<Figure size 640x480 with 1 Axes>"
      ]
     },
     "metadata": {},
     "output_type": "display_data"
    }
   ],
   "source": [
    "# Scatter plot for average order value per user\n",
    "\n",
    "plt.scatter(orders['day'],orders['revenue'])\n",
    "plt.show()"
   ]
  },
  {
   "cell_type": "markdown",
   "metadata": {},
   "source": [
    "# 6. Dispersion Analysis by Average Order Value\n",
    "\n",
    "This chart complements the previous analysis. In the earlier graph, we saw many outliers across the entire sample, while here the outliers seem to be minimal. We observe that the value of each transaction becomes more significant, and these few outliers represent amounts far above the average. Next, we will check the statistical significance and compare the raw data, removing the outliers, to evaluate if we truly have significant differences."
   ]
  },
  {
   "cell_type": "code",
   "execution_count": 16,
   "metadata": {},
   "outputs": [
    {
     "name": "stdout",
     "output_type": "stream",
     "text": [
      "[282.48  435.54  900.904]\n"
     ]
    }
   ],
   "source": [
    "# Calculation of percentiles for the average value of each order\n",
    "\n",
    "percentiles = np.percentile(orders['revenue'], [90,95,99])\n",
    "\n",
    "print(percentiles)"
   ]
  },
  {
   "cell_type": "code",
   "execution_count": 17,
   "metadata": {},
   "outputs": [
    {
     "name": "stdout",
     "output_type": "stream",
     "text": [
      "p-value:  0.08587216033007773\n",
      "No se pudo rechazar la hipótesis nula: no podemos sacar conclusiones sobre la diferencia\n"
     ]
    }
   ],
   "source": [
    "# Calculation of the statistical raw significance for the daily conversion of each group\n",
    "\n",
    "conversion_A = visits.query(\"group == 'A'\")['convertion'].sort_values()\n",
    "conversion_B = visits.query(\"group == 'B'\")['convertion'].sort_values()\n",
    "\n",
    "alpha = 0.05\n",
    "test_1 = st.mannwhitneyu(conversion_A, conversion_B )\n",
    "\n",
    "print('p-value: ', test_1.pvalue)\n",
    "\n",
    "if (test_1.pvalue < alpha):\n",
    "    print(\"Null hypothesis rejected: there are significant differences between the distributions of the two groups compared\")\n",
    "else:\n",
    "    print(\"The null hypothesis could not be rejected: we cannot draw conclusions about the difference\")"
   ]
  },
  {
   "cell_type": "code",
   "execution_count": 18,
   "metadata": {},
   "outputs": [
    {
     "name": "stdout",
     "output_type": "stream",
     "text": [
      "p-value:  0.4222761086468382\n",
      "No se pudo rechazar la hipótesis nula: no podemos sacar conclusiones sobre la diferencia\n"
     ]
    }
   ],
   "source": [
    "# Calculation of raw statistical significance for average daily size\n",
    "\n",
    "avg_income_A = (orders[orders['group']=='A'].groupby('day')['revenue'].mean()).sort_values()\n",
    "avg_income_B = (orders[orders['group']=='B'].groupby('day')['revenue'].mean()).sort_values()\n",
    "\n",
    "alpha = 0.05\n",
    "\n",
    "test_2 = st.mannwhitneyu(avg_income_A, avg_income_B)\n",
    "\n",
    "print('p-value: ', test_2.pvalue)\n",
    "\n",
    "if (test_2.pvalue < alpha):\n",
    "    print(\"Null hypothesis rejected: there are significant differences between the distributions of the two groups compared\")\n",
    "else:\n",
    "    print(\"The null hypothesis could not be rejected: we cannot draw conclusions about the difference\")"
   ]
  },
  {
   "cell_type": "code",
   "execution_count": 19,
   "metadata": {},
   "outputs": [],
   "source": [
    "# Preparing for purchase conversion calculation information, removing outlier data\n",
    "\n",
    "\n",
    "orders_by_user_filtered = (orders_by_user.to_frame()).reset_index()\n",
    "orders_by_user_filtered = orders_by_user_filtered.query(\"transactionid > 1\")['visitorid']\n",
    "orders_filtered = orders[orders['visitorid'].isin(orders_by_user_filtered)] # A filter is made for users who made more than one purchase\n",
    "\n",
    "visitors_reject = orders_filtered.groupby(['day','group'])['transactionid'].count() #I made the list of visits that will be subtracted from data frame visits\n",
    "visitors_reject.name = 'visitors_reject'\n",
    "visits['day'] = visits['date'].dt.day"
   ]
  },
  {
   "cell_type": "code",
   "execution_count": 20,
   "metadata": {},
   "outputs": [],
   "source": [
    "visits = visits.join(visitors_reject, on = ['day', 'group'])"
   ]
  },
  {
   "cell_type": "code",
   "execution_count": 21,
   "metadata": {},
   "outputs": [],
   "source": [
    "# I made a conversion_ column that represents the conversion value removing the outliers\n",
    "\n",
    "visits['visitors_reject'] = visits['visitors_reject'].fillna(0)\n",
    "visits['visits_'] = visits['visits'] - visits['visitors_reject']\n",
    "visits['orders_'] = visits['orders'] - visits['visitors_reject']\n",
    "\n",
    "visits['convertion_'] = visits['orders_']/visits['visits_']\n"
   ]
  },
  {
   "cell_type": "code",
   "execution_count": 22,
   "metadata": {},
   "outputs": [
    {
     "name": "stdout",
     "output_type": "stream",
     "text": [
      "p-value:  0.05035377454756353\n",
      "No se pudo rechazar la hipótesis nula: no podemos sacar conclusiones sobre la diferencia\n"
     ]
    }
   ],
   "source": [
    "# Calculating daily conversion significance by removing outliers\n",
    "\n",
    "conversion_A_alt = visits.query(\"group == 'A'\")['convertion_'].sort_values()\n",
    "conversion_B_alt = visits.query(\"group == 'B'\")['convertion_'].sort_values()\n",
    "\n",
    "alpha = 0.05\n",
    "test_3 = st.mannwhitneyu(conversion_A_alt, conversion_B_alt)\n",
    "\n",
    "print('p-value: ', test_3.pvalue)\n",
    "\n",
    "if (test_3.pvalue < alpha):\n",
    "    print(\"Null hypothesis rejected: there are significant differences between the distributions of the two groups compared\")\n",
    "else:\n",
    "    print(\"The null hypothesis could not be rejected: we cannot draw conclusions about the difference\")"
   ]
  },
  {
   "cell_type": "code",
   "execution_count": 23,
   "metadata": {},
   "outputs": [
    {
     "name": "stdout",
     "output_type": "stream",
     "text": [
      "p-value:  0.4304627009065408\n",
      "No se pudo rechazar la hipótesis nula: no podemos sacar conclusiones sobre la diferencia\n"
     ]
    }
   ],
   "source": [
    "# Calculating statistical significance by removing outliers for average daily size\n",
    "\n",
    "orders_alt = orders[orders['revenue'] < 282.48]\n",
    "\n",
    "avg_income_A_alt = (orders_alt[orders_alt['group']=='A'].groupby('day')['revenue'].mean()).sort_values()\n",
    "avg_income_B_alt = (orders_alt[orders_alt['group']=='B'].groupby('day')['revenue'].mean()).sort_values()\n",
    "\n",
    "alpha = 0.05\n",
    "\n",
    "test_4 = st.mannwhitneyu(avg_income_A_alt, avg_income_B_alt)\n",
    "\n",
    "print('p-value: ', test_4.pvalue)\n",
    "\n",
    "if (test_4.pvalue < alpha):\n",
    "    print(\"Null hypothesis rejected: there are significant differences between the distributions of the two groups compared\")\n",
    "else:\n",
    "    print(\"The null hypothesis could not be rejected: we cannot draw conclusions about the difference\")"
   ]
  },
  {
   "cell_type": "markdown",
   "metadata": {},
   "source": [
    "# 7. Final Conclusion\n",
    "\n",
    "By breaking down the results of each significance test, we compare the results of the raw significance against the results without the outliers. For all tests, the calculation was favorable—both conversion percentage and purchase amounts are very similar between the two groups. Even when removing the outliers, the results remain the same. The final result was contrary to our initial analysis, as the differences between the two groups seemed very significant at first. Based on this, we can conclude the test and mark Group B as the leader over Group A. Both groups are comparable, but Group B shows better results."
   ]
  }
 ],
 "metadata": {
  "ExecuteTimeLog": [
   {
    "duration": 321,
    "start_time": "2024-10-05T02:50:52.267Z"
   },
   {
    "duration": 23,
    "start_time": "2024-10-05T02:50:59.175Z"
   },
   {
    "duration": 10,
    "start_time": "2024-10-05T02:51:23.189Z"
   },
   {
    "duration": 17,
    "start_time": "2024-10-05T02:52:51.540Z"
   },
   {
    "duration": 12,
    "start_time": "2024-10-05T02:53:05.600Z"
   },
   {
    "duration": 17,
    "start_time": "2024-10-05T02:53:08.064Z"
   },
   {
    "duration": 5,
    "start_time": "2024-10-05T02:53:53.482Z"
   },
   {
    "duration": 8,
    "start_time": "2024-10-05T03:20:16.086Z"
   },
   {
    "duration": 3,
    "start_time": "2024-10-05T03:21:44.036Z"
   },
   {
    "duration": 5,
    "start_time": "2024-10-05T03:23:20.530Z"
   },
   {
    "duration": 17,
    "start_time": "2024-10-05T03:23:50.772Z"
   },
   {
    "duration": 6,
    "start_time": "2024-10-05T03:24:47.271Z"
   },
   {
    "duration": 590,
    "start_time": "2024-10-05T03:28:01.119Z"
   },
   {
    "duration": 7,
    "start_time": "2024-10-05T03:28:27.272Z"
   },
   {
    "duration": 9,
    "start_time": "2024-10-05T03:30:45.591Z"
   },
   {
    "duration": 11,
    "start_time": "2024-10-05T03:30:56.672Z"
   },
   {
    "duration": 10,
    "start_time": "2024-10-05T03:36:58.923Z"
   },
   {
    "duration": 9,
    "start_time": "2024-10-05T03:40:24.138Z"
   },
   {
    "duration": 277,
    "start_time": "2024-10-07T04:57:33.888Z"
   },
   {
    "duration": 20,
    "start_time": "2024-10-07T04:57:35.171Z"
   },
   {
    "duration": 19,
    "start_time": "2024-10-07T04:57:37.059Z"
   },
   {
    "duration": 6,
    "start_time": "2024-10-07T04:57:40.404Z"
   },
   {
    "duration": 13,
    "start_time": "2024-10-07T04:57:43.004Z"
   },
   {
    "duration": 281,
    "start_time": "2024-10-07T05:01:10.361Z"
   },
   {
    "duration": 11,
    "start_time": "2024-10-07T05:01:11.391Z"
   },
   {
    "duration": 17,
    "start_time": "2024-10-07T05:01:13.343Z"
   },
   {
    "duration": 5,
    "start_time": "2024-10-07T05:01:16.957Z"
   },
   {
    "duration": 4,
    "start_time": "2024-10-07T05:05:15.711Z"
   },
   {
    "duration": 8,
    "start_time": "2024-10-07T05:13:05.942Z"
   },
   {
    "duration": 11,
    "start_time": "2024-10-07T05:13:19.203Z"
   },
   {
    "duration": 12,
    "start_time": "2024-10-07T05:14:20.328Z"
   },
   {
    "duration": 7,
    "start_time": "2024-10-07T05:22:36.537Z"
   },
   {
    "duration": 7,
    "start_time": "2024-10-07T05:23:11.627Z"
   },
   {
    "duration": 625,
    "start_time": "2024-10-07T05:26:14.728Z"
   },
   {
    "duration": 18,
    "start_time": "2024-10-07T05:26:23.338Z"
   },
   {
    "duration": 14,
    "start_time": "2024-10-07T05:27:05.465Z"
   },
   {
    "duration": 11,
    "start_time": "2024-10-07T05:27:15.052Z"
   },
   {
    "duration": 16,
    "start_time": "2024-10-07T05:27:37.734Z"
   },
   {
    "duration": 19,
    "start_time": "2024-10-07T05:29:17.731Z"
   },
   {
    "duration": 31,
    "start_time": "2024-10-07T05:31:29.802Z"
   },
   {
    "duration": 1787,
    "start_time": "2024-10-07T05:35:47.718Z"
   },
   {
    "duration": 14,
    "start_time": "2024-10-07T05:35:50.900Z"
   },
   {
    "duration": 18,
    "start_time": "2024-10-07T05:35:55.757Z"
   },
   {
    "duration": 7,
    "start_time": "2024-10-07T05:35:58.929Z"
   },
   {
    "duration": 10,
    "start_time": "2024-10-07T05:36:05.152Z"
   },
   {
    "duration": 128,
    "start_time": "2024-10-07T05:36:07.577Z"
   },
   {
    "duration": 58,
    "start_time": "2024-10-07T05:36:26.279Z"
   },
   {
    "duration": 10,
    "start_time": "2024-10-07T05:36:27.518Z"
   },
   {
    "duration": 18,
    "start_time": "2024-10-07T05:36:30.214Z"
   },
   {
    "duration": 5,
    "start_time": "2024-10-07T05:36:32.736Z"
   },
   {
    "duration": 10,
    "start_time": "2024-10-07T05:36:35.601Z"
   },
   {
    "duration": 698,
    "start_time": "2024-10-07T05:36:37.671Z"
   },
   {
    "duration": 20,
    "start_time": "2024-10-07T05:38:24.517Z"
   },
   {
    "duration": 16,
    "start_time": "2024-10-07T05:39:24.019Z"
   },
   {
    "duration": 278,
    "start_time": "2024-10-07T05:39:50.910Z"
   },
   {
    "duration": 13,
    "start_time": "2024-10-07T06:04:40.441Z"
   },
   {
    "duration": 13,
    "start_time": "2024-10-07T06:04:56.606Z"
   },
   {
    "duration": 12,
    "start_time": "2024-10-07T06:05:17.237Z"
   },
   {
    "duration": 258,
    "start_time": "2024-10-07T06:06:11.523Z"
   },
   {
    "duration": 2469,
    "start_time": "2024-10-08T10:03:59.527Z"
   },
   {
    "duration": 19,
    "start_time": "2024-10-08T10:04:03.688Z"
   },
   {
    "duration": 19,
    "start_time": "2024-10-08T10:04:06.766Z"
   },
   {
    "duration": 6,
    "start_time": "2024-10-08T10:04:09.682Z"
   },
   {
    "duration": 11,
    "start_time": "2024-10-08T10:04:12.169Z"
   },
   {
    "duration": 296,
    "start_time": "2024-10-08T10:04:16.038Z"
   },
   {
    "duration": 278,
    "start_time": "2024-10-08T10:04:20.263Z"
   },
   {
    "duration": 5,
    "start_time": "2024-10-08T10:26:10.681Z"
   },
   {
    "duration": 13,
    "start_time": "2024-10-08T10:28:30.397Z"
   },
   {
    "duration": 135,
    "start_time": "2024-10-08T10:31:22.453Z"
   },
   {
    "duration": 11,
    "start_time": "2024-10-08T10:31:44.203Z"
   },
   {
    "duration": 13,
    "start_time": "2024-10-08T10:34:17.522Z"
   },
   {
    "duration": 13,
    "start_time": "2024-10-08T10:34:25.713Z"
   },
   {
    "duration": 112,
    "start_time": "2024-10-08T10:36:19.880Z"
   },
   {
    "duration": 20,
    "start_time": "2024-10-08T10:36:44.409Z"
   },
   {
    "duration": 16,
    "start_time": "2024-10-08T10:37:22.500Z"
   },
   {
    "duration": 17,
    "start_time": "2024-10-08T10:37:56.089Z"
   },
   {
    "duration": 16,
    "start_time": "2024-10-08T10:38:58.982Z"
   },
   {
    "duration": 17,
    "start_time": "2024-10-08T10:39:24.827Z"
   },
   {
    "duration": 219,
    "start_time": "2024-10-08T10:42:29.734Z"
   },
   {
    "duration": 4,
    "start_time": "2024-10-08T10:45:28.969Z"
   },
   {
    "duration": 112,
    "start_time": "2024-10-08T10:49:05.623Z"
   },
   {
    "duration": 6,
    "start_time": "2024-10-08T10:49:22.447Z"
   },
   {
    "duration": 6,
    "start_time": "2024-10-08T10:52:01.267Z"
   },
   {
    "duration": 6,
    "start_time": "2024-10-08T10:52:13.250Z"
   },
   {
    "duration": 8,
    "start_time": "2024-10-08T10:56:36.321Z"
   },
   {
    "duration": 7,
    "start_time": "2024-10-08T10:57:55.548Z"
   },
   {
    "duration": 21,
    "start_time": "2024-10-08T11:00:32.638Z"
   },
   {
    "duration": 17,
    "start_time": "2024-10-08T11:00:37.667Z"
   },
   {
    "duration": 2443,
    "start_time": "2024-10-09T09:09:42.404Z"
   },
   {
    "duration": 24,
    "start_time": "2024-10-09T09:09:46.442Z"
   },
   {
    "duration": 18,
    "start_time": "2024-10-09T09:09:50.450Z"
   },
   {
    "duration": 6,
    "start_time": "2024-10-09T09:09:53.364Z"
   },
   {
    "duration": 11,
    "start_time": "2024-10-09T09:09:55.665Z"
   },
   {
    "duration": 314,
    "start_time": "2024-10-09T09:09:59.712Z"
   },
   {
    "duration": 274,
    "start_time": "2024-10-09T09:10:03.219Z"
   },
   {
    "duration": 242,
    "start_time": "2024-10-09T09:10:06.841Z"
   },
   {
    "duration": 7,
    "start_time": "2024-10-09T09:10:09.930Z"
   },
   {
    "duration": 18,
    "start_time": "2024-10-09T09:10:14.635Z"
   },
   {
    "duration": 753,
    "start_time": "2024-10-09T09:14:43.652Z"
   },
   {
    "duration": 643,
    "start_time": "2024-10-09T09:16:40.741Z"
   },
   {
    "duration": 236,
    "start_time": "2024-10-09T09:17:41.792Z"
   },
   {
    "duration": 10,
    "start_time": "2024-10-09T09:20:24.211Z"
   },
   {
    "duration": 126,
    "start_time": "2024-10-09T09:21:47.884Z"
   },
   {
    "duration": 225,
    "start_time": "2024-10-09T09:22:44.412Z"
   },
   {
    "duration": 173,
    "start_time": "2024-10-09T09:24:26.875Z"
   },
   {
    "duration": 246,
    "start_time": "2024-10-09T09:26:17.035Z"
   },
   {
    "duration": 14,
    "start_time": "2024-10-09T09:27:56.978Z"
   },
   {
    "duration": 260,
    "start_time": "2024-10-09T09:32:00.566Z"
   },
   {
    "duration": 212,
    "start_time": "2024-10-09T09:33:01.285Z"
   },
   {
    "duration": 7,
    "start_time": "2024-10-09T09:35:23.780Z"
   },
   {
    "duration": 208,
    "start_time": "2024-10-09T09:36:57.586Z"
   },
   {
    "duration": 7,
    "start_time": "2024-10-09T09:41:58.004Z"
   },
   {
    "duration": 9,
    "start_time": "2024-10-09T09:42:33.688Z"
   },
   {
    "duration": 9,
    "start_time": "2024-10-09T09:42:50.178Z"
   },
   {
    "duration": 9,
    "start_time": "2024-10-09T09:43:38.419Z"
   },
   {
    "duration": 619,
    "start_time": "2024-10-09T09:45:17.537Z"
   },
   {
    "duration": 19,
    "start_time": "2024-10-09T09:47:40.884Z"
   },
   {
    "duration": 130,
    "start_time": "2024-10-09T09:48:01.279Z"
   },
   {
    "duration": 181,
    "start_time": "2024-10-09T09:48:24.568Z"
   },
   {
    "duration": 816,
    "start_time": "2024-10-09T09:49:53.866Z"
   },
   {
    "duration": 720,
    "start_time": "2024-10-09T09:51:23.278Z"
   },
   {
    "duration": 523,
    "start_time": "2024-10-09T09:53:56.541Z"
   },
   {
    "duration": 8,
    "start_time": "2024-10-09T09:57:18.949Z"
   },
   {
    "duration": 504,
    "start_time": "2024-10-09T09:57:45.170Z"
   },
   {
    "duration": 901,
    "start_time": "2024-10-09T09:58:12.162Z"
   },
   {
    "duration": 661,
    "start_time": "2024-10-09T09:58:46.582Z"
   },
   {
    "duration": 7,
    "start_time": "2024-10-09T09:59:34.459Z"
   },
   {
    "duration": 655,
    "start_time": "2024-10-09T10:04:27.889Z"
   },
   {
    "duration": 250,
    "start_time": "2024-10-09T10:06:46.918Z"
   },
   {
    "duration": 243,
    "start_time": "2024-10-09T10:08:14.581Z"
   },
   {
    "duration": 13,
    "start_time": "2024-10-09T10:09:01.921Z"
   },
   {
    "duration": 361,
    "start_time": "2024-10-09T10:09:46.011Z"
   },
   {
    "duration": 239,
    "start_time": "2024-10-09T10:10:42.591Z"
   },
   {
    "duration": 5,
    "start_time": "2024-10-09T10:29:48.757Z"
   },
   {
    "duration": 6,
    "start_time": "2024-10-09T10:30:08.697Z"
   },
   {
    "duration": 5,
    "start_time": "2024-10-09T10:34:07.238Z"
   },
   {
    "duration": 20,
    "start_time": "2024-10-09T10:37:00.636Z"
   },
   {
    "duration": 267,
    "start_time": "2024-10-09T10:39:48.852Z"
   },
   {
    "duration": 263,
    "start_time": "2024-10-09T10:40:59.257Z"
   },
   {
    "duration": 251,
    "start_time": "2024-10-09T10:42:52.719Z"
   },
   {
    "duration": 311,
    "start_time": "2024-10-09T10:44:45.446Z"
   },
   {
    "duration": 19,
    "start_time": "2024-10-09T10:53:42.230Z"
   },
   {
    "duration": 12,
    "start_time": "2024-10-09T10:53:50.635Z"
   },
   {
    "duration": 402,
    "start_time": "2024-10-09T10:55:41.204Z"
   },
   {
    "duration": 395,
    "start_time": "2024-10-09T10:56:21.718Z"
   },
   {
    "duration": 397,
    "start_time": "2024-10-09T10:56:38.467Z"
   },
   {
    "duration": 399,
    "start_time": "2024-10-09T10:57:38.391Z"
   },
   {
    "duration": 397,
    "start_time": "2024-10-09T10:57:56.661Z"
   },
   {
    "duration": 21,
    "start_time": "2024-10-09T11:02:07.434Z"
   },
   {
    "duration": 20,
    "start_time": "2024-10-09T11:02:29.027Z"
   },
   {
    "duration": 2505,
    "start_time": "2024-10-12T02:17:01.935Z"
   },
   {
    "duration": 23,
    "start_time": "2024-10-12T02:17:05.864Z"
   },
   {
    "duration": 19,
    "start_time": "2024-10-12T02:17:08.291Z"
   },
   {
    "duration": 7,
    "start_time": "2024-10-12T02:17:11.138Z"
   },
   {
    "duration": 11,
    "start_time": "2024-10-12T02:17:13.190Z"
   },
   {
    "duration": 252,
    "start_time": "2024-10-12T02:17:14.892Z"
   },
   {
    "duration": 244,
    "start_time": "2024-10-12T02:17:17.751Z"
   },
   {
    "duration": 251,
    "start_time": "2024-10-12T02:17:20.957Z"
   },
   {
    "duration": 7,
    "start_time": "2024-10-12T02:17:24.795Z"
   },
   {
    "duration": 181,
    "start_time": "2024-10-12T02:17:28.031Z"
   },
   {
    "duration": 510,
    "start_time": "2024-10-12T02:19:42.008Z"
   },
   {
    "duration": 12,
    "start_time": "2024-10-12T02:20:59.454Z"
   },
   {
    "duration": 118,
    "start_time": "2024-10-12T02:21:39.679Z"
   },
   {
    "duration": 4,
    "start_time": "2024-10-12T02:30:57.548Z"
   },
   {
    "duration": 5,
    "start_time": "2024-10-12T02:31:58.403Z"
   },
   {
    "duration": 5,
    "start_time": "2024-10-12T02:35:33.927Z"
   },
   {
    "duration": 6,
    "start_time": "2024-10-12T02:38:09.416Z"
   },
   {
    "duration": 4,
    "start_time": "2024-10-12T02:38:42.684Z"
   },
   {
    "duration": 6,
    "start_time": "2024-10-12T02:39:02.625Z"
   },
   {
    "duration": 4,
    "start_time": "2024-10-12T02:41:02.667Z"
   },
   {
    "duration": 86,
    "start_time": "2024-10-12T02:42:30.803Z"
   },
   {
    "duration": 4,
    "start_time": "2024-10-12T02:44:14.948Z"
   },
   {
    "duration": 6,
    "start_time": "2024-10-12T03:10:47.673Z"
   },
   {
    "duration": 146,
    "start_time": "2024-10-12T03:28:13.082Z"
   },
   {
    "duration": 292,
    "start_time": "2024-10-12T03:36:42.788Z"
   },
   {
    "duration": 5,
    "start_time": "2024-10-12T03:36:54.024Z"
   },
   {
    "duration": 7,
    "start_time": "2024-10-12T03:37:23.011Z"
   },
   {
    "duration": 7,
    "start_time": "2024-10-12T03:39:31.622Z"
   },
   {
    "duration": 17,
    "start_time": "2024-10-12T03:41:15.622Z"
   },
   {
    "duration": 2,
    "start_time": "2024-10-12T03:41:36.758Z"
   },
   {
    "duration": 19,
    "start_time": "2024-10-12T03:41:43.545Z"
   },
   {
    "duration": 20,
    "start_time": "2024-10-12T03:41:56.799Z"
   },
   {
    "duration": 8,
    "start_time": "2024-10-12T03:42:10.052Z"
   },
   {
    "duration": 6,
    "start_time": "2024-10-12T03:50:25.945Z"
   },
   {
    "duration": 5,
    "start_time": "2024-10-12T03:56:45.550Z"
   },
   {
    "duration": 6,
    "start_time": "2024-10-12T03:57:41.732Z"
   },
   {
    "duration": 7,
    "start_time": "2024-10-12T03:58:21.510Z"
   },
   {
    "duration": 9,
    "start_time": "2024-10-12T03:59:53.721Z"
   },
   {
    "duration": 4,
    "start_time": "2024-10-12T04:28:31.679Z"
   },
   {
    "duration": 361,
    "start_time": "2024-10-12T04:28:47.564Z"
   },
   {
    "duration": 4,
    "start_time": "2024-10-12T04:34:25.525Z"
   },
   {
    "duration": 5,
    "start_time": "2024-10-12T04:45:40.231Z"
   },
   {
    "duration": 46,
    "start_time": "2024-10-12T04:46:50.033Z"
   },
   {
    "duration": 7,
    "start_time": "2024-10-12T04:47:25.922Z"
   },
   {
    "duration": 13,
    "start_time": "2024-10-12T04:51:03.323Z"
   },
   {
    "duration": 12,
    "start_time": "2024-10-12T04:51:52.257Z"
   },
   {
    "duration": 10,
    "start_time": "2024-10-12T04:52:31.296Z"
   },
   {
    "duration": 8,
    "start_time": "2024-10-12T04:53:44.453Z"
   },
   {
    "duration": 8,
    "start_time": "2024-10-12T04:55:21.433Z"
   },
   {
    "duration": 11,
    "start_time": "2024-10-12T04:58:43.309Z"
   },
   {
    "duration": 11,
    "start_time": "2024-10-12T04:59:46.494Z"
   },
   {
    "duration": 10,
    "start_time": "2024-10-12T05:02:55.279Z"
   },
   {
    "duration": 9,
    "start_time": "2024-10-12T05:03:57.903Z"
   },
   {
    "duration": 98,
    "start_time": "2024-10-12T05:05:01.704Z"
   },
   {
    "duration": 11,
    "start_time": "2024-10-12T05:05:51.910Z"
   },
   {
    "duration": 9,
    "start_time": "2024-10-12T06:23:26.940Z"
   },
   {
    "duration": 10,
    "start_time": "2024-10-12T06:24:14.650Z"
   },
   {
    "duration": 28,
    "start_time": "2024-10-12T06:26:15.276Z"
   },
   {
    "duration": 10,
    "start_time": "2024-10-12T06:26:57.943Z"
   },
   {
    "duration": 11,
    "start_time": "2024-10-12T06:27:50.897Z"
   },
   {
    "duration": 4,
    "start_time": "2024-10-12T06:28:03.685Z"
   },
   {
    "duration": 5,
    "start_time": "2024-10-12T06:28:17.137Z"
   },
   {
    "duration": 6,
    "start_time": "2024-10-12T06:29:23.551Z"
   },
   {
    "duration": 7,
    "start_time": "2024-10-12T06:31:53.123Z"
   },
   {
    "duration": 8,
    "start_time": "2024-10-12T06:32:44.520Z"
   },
   {
    "duration": 9,
    "start_time": "2024-10-12T06:33:26.632Z"
   },
   {
    "duration": 10,
    "start_time": "2024-10-12T06:33:49.179Z"
   },
   {
    "duration": 8,
    "start_time": "2024-10-12T06:41:41.932Z"
   },
   {
    "duration": 8,
    "start_time": "2024-10-12T06:41:47.317Z"
   },
   {
    "duration": 8,
    "start_time": "2024-10-12T06:42:37.017Z"
   },
   {
    "duration": 8,
    "start_time": "2024-10-12T06:46:01.037Z"
   },
   {
    "duration": 8,
    "start_time": "2024-10-12T06:46:21.062Z"
   },
   {
    "duration": 8,
    "start_time": "2024-10-12T06:48:05.876Z"
   },
   {
    "duration": 8,
    "start_time": "2024-10-12T06:48:22.737Z"
   },
   {
    "duration": 9,
    "start_time": "2024-10-12T06:49:26.282Z"
   },
   {
    "duration": 4,
    "start_time": "2024-10-12T06:54:23.369Z"
   },
   {
    "duration": 5,
    "start_time": "2024-10-12T07:05:32.593Z"
   },
   {
    "duration": 12,
    "start_time": "2024-10-12T07:06:39.700Z"
   },
   {
    "duration": 12,
    "start_time": "2024-10-12T07:07:09.170Z"
   },
   {
    "duration": 14,
    "start_time": "2024-10-12T07:08:11.184Z"
   },
   {
    "duration": 22,
    "start_time": "2024-10-12T07:09:32.438Z"
   },
   {
    "duration": 13,
    "start_time": "2024-10-12T07:09:39.482Z"
   },
   {
    "duration": 12,
    "start_time": "2024-10-12T07:12:21.045Z"
   },
   {
    "duration": 17,
    "start_time": "2024-10-12T07:15:12.647Z"
   },
   {
    "duration": 852,
    "start_time": "2024-10-13T19:36:53.918Z"
   },
   {
    "duration": 18,
    "start_time": "2024-10-13T19:36:54.772Z"
   },
   {
    "duration": 23,
    "start_time": "2024-10-13T19:36:54.791Z"
   },
   {
    "duration": 6,
    "start_time": "2024-10-13T19:36:54.816Z"
   },
   {
    "duration": 13,
    "start_time": "2024-10-13T19:36:54.825Z"
   },
   {
    "duration": 17,
    "start_time": "2024-10-13T19:36:55.157Z"
   },
   {
    "duration": 10,
    "start_time": "2024-10-13T19:36:55.176Z"
   },
   {
    "duration": 264,
    "start_time": "2024-10-13T19:36:55.188Z"
   },
   {
    "duration": 318,
    "start_time": "2024-10-13T19:36:55.454Z"
   },
   {
    "duration": 201,
    "start_time": "2024-10-13T19:36:55.974Z"
   },
   {
    "duration": 7,
    "start_time": "2024-10-13T19:36:56.177Z"
   },
   {
    "duration": 197,
    "start_time": "2024-10-13T19:36:56.186Z"
   },
   {
    "duration": 100,
    "start_time": "2024-10-13T19:36:56.385Z"
   },
   {
    "duration": 3,
    "start_time": "2024-10-13T19:36:56.548Z"
   },
   {
    "duration": 108,
    "start_time": "2024-10-13T19:36:56.554Z"
   },
   {
    "duration": 4,
    "start_time": "2024-10-13T19:36:56.664Z"
   },
   {
    "duration": 8,
    "start_time": "2024-10-13T19:36:56.671Z"
   },
   {
    "duration": 9,
    "start_time": "2024-10-13T19:36:56.704Z"
   },
   {
    "duration": 9,
    "start_time": "2024-10-13T19:36:56.715Z"
   },
   {
    "duration": 4,
    "start_time": "2024-10-13T19:36:56.727Z"
   },
   {
    "duration": 6,
    "start_time": "2024-10-13T19:36:56.733Z"
   },
   {
    "duration": 11,
    "start_time": "2024-10-13T19:36:56.742Z"
   },
   {
    "duration": 9,
    "start_time": "2024-10-13T19:36:56.755Z"
   }
  ],
  "kernelspec": {
   "display_name": "Python 3 (ipykernel)",
   "language": "python",
   "name": "python3"
  },
  "language_info": {
   "codemirror_mode": {
    "name": "ipython",
    "version": 3
   },
   "file_extension": ".py",
   "mimetype": "text/x-python",
   "name": "python",
   "nbconvert_exporter": "python",
   "pygments_lexer": "ipython3",
   "version": "3.11.7"
  },
  "toc": {
   "base_numbering": 1,
   "nav_menu": {},
   "number_sections": true,
   "sideBar": true,
   "skip_h1_title": true,
   "title_cell": "Table of Contents",
   "title_sidebar": "Contents",
   "toc_cell": false,
   "toc_position": {},
   "toc_section_display": true,
   "toc_window_display": false
  }
 },
 "nbformat": 4,
 "nbformat_minor": 4
}
